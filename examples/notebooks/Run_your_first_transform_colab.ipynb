{
  "cells": [
    {
      "cell_type": "markdown",
      "id": "a98e6dac-e368-4310-a0cb-751faf1e3b9b",
      "metadata": {
        "id": "a98e6dac-e368-4310-a0cb-751faf1e3b9b"
      },
      "source": [
        "The following notebook example will allow you to test DPK, without cloning the repo. You can run it either on Google Colab or you can use your local environment (by downloading just the notebook). We use a temporary folder for input and output, but users are encouraged to use their own input folder."
      ]
    },
    {
      "cell_type": "code",
      "execution_count": null,
      "id": "c4f9c952-cb3b-40f1-bfb5-00d9a43a5715",
      "metadata": {
        "scrolled": true,
        "id": "c4f9c952-cb3b-40f1-bfb5-00d9a43a5715"
      },
      "outputs": [],
      "source": [
        "!pip install 'data-prep-toolkit-transforms[docling2parquet]==1.1.1'\n",
        "!pip install pandas"
      ]
    },
    {
      "cell_type": "code",
      "execution_count": 2,
      "id": "5d447b17",
      "metadata": {
        "colab": {
          "base_uri": "https://localhost:8080/"
        },
        "id": "5d447b17",
        "outputId": "0733db7b-07cb-4c8a-84a9-ddae7846ca5c"
      },
      "outputs": [
        {
          "output_type": "execute_result",
          "data": {
            "text/plain": [
              "('tmp/input/redp5110-ch1.pdf', <http.client.HTTPMessage at 0x791588428090>)"
            ]
          },
          "metadata": {},
          "execution_count": 2
        }
      ],
      "source": [
        "import urllib.request\n",
        "import shutil\n",
        "shutil.os.makedirs(\"tmp/input\", exist_ok=True)\n",
        "urllib.request.urlretrieve(\"https://raw.githubusercontent.com/data-prep-kit/data-prep-kit/dev/transforms/language/docling2parquet/test-data/input/archive1.zip\", \"tmp/input/archive1.zip\")\n",
        "urllib.request.urlretrieve(\"https://raw.githubusercontent.com/data-prep-kit/data-prep-kit/dev/transforms/language/docling2parquet/test-data/input/redp5110-ch1.pdf\", \"tmp/input/redp5110-ch1.pdf\")"
      ]
    },
    {
      "cell_type": "code",
      "execution_count": 9,
      "id": "76469c87-cfd0-4acd-b57f-36edc52018ff",
      "metadata": {
        "id": "76469c87-cfd0-4acd-b57f-36edc52018ff"
      },
      "outputs": [],
      "source": [
        "from dpk_docling2parquet import Docling2Parquet\n",
        "from dpk_docling2parquet import docling2parquet_contents_types"
      ]
    },
    {
      "cell_type": "code",
      "execution_count": 10,
      "id": "90277e74-f223-434d-b256-94079bd6c5bc",
      "metadata": {
        "scrolled": true,
        "colab": {
          "base_uri": "https://localhost:8080/"
        },
        "id": "90277e74-f223-434d-b256-94079bd6c5bc",
        "outputId": "6ea68432-ce98-42c0-c076-556c0bceaf37"
      },
      "outputs": [
        {
          "output_type": "stream",
          "name": "stderr",
          "text": [
            "06:40:18 INFO - Completed 1 files (33.33%) in 2.432 min\n",
            "INFO:data_processing.runtime.pure_python.transform_orchestrator:Completed 1 files (33.33%) in 2.432 min\n",
            "06:40:20 INFO - Completed 2 files (66.67%) in 2.466 min\n",
            "INFO:data_processing.runtime.pure_python.transform_orchestrator:Completed 2 files (66.67%) in 2.466 min\n",
            "06:43:21 INFO - Completed 3 files (100.0%) in 5.481 min\n",
            "INFO:data_processing.runtime.pure_python.transform_orchestrator:Completed 3 files (100.0%) in 5.481 min\n",
            "06:43:21 INFO - Done processing 3 files, waiting for flush() completion.\n",
            "INFO:data_processing.runtime.pure_python.transform_orchestrator:Done processing 3 files, waiting for flush() completion.\n",
            "06:43:21 INFO - done flushing in 0.0 sec\n",
            "INFO:data_processing.runtime.pure_python.transform_orchestrator:done flushing in 0.0 sec\n",
            "06:43:21 INFO - Completed execution in 5.571 min, execution result 0\n",
            "INFO:data_processing.runtime.pure_python.transform_launcher:Completed execution in 5.571 min, execution result 0\n"
          ]
        },
        {
          "output_type": "execute_result",
          "data": {
            "text/plain": [
              "0"
            ]
          },
          "metadata": {},
          "execution_count": 10
        }
      ],
      "source": [
        "Docling2Parquet(input_folder= \"/content/data\",\n",
        "               output_folder= \"/content/data2\",\n",
        "               data_files_to_use=['.pdf', '.zip'],\n",
        "               docling2parquet_contents_type=docling2parquet_contents_types.JSON).transform()"
      ]
    },
    {
      "cell_type": "code",
      "execution_count": null,
      "id": "e2bee8da-c566-4e45-bca1-354dfd04b0df",
      "metadata": {
        "id": "e2bee8da-c566-4e45-bca1-354dfd04b0df"
      },
      "outputs": [],
      "source": [
        "import pyarrow.parquet as pq\n",
        "import pandas as pd\n",
        "table = pq.read_table('/content/data2/KLB PHYSICS BK 2.parquet')\n",
        "table.to_pandas()"
      ]
    },
    {
      "cell_type": "code",
      "execution_count": null,
      "id": "685229ce-698b-4a97-91f8-b8533337bc0a",
      "metadata": {
        "id": "685229ce-698b-4a97-91f8-b8533337bc0a"
      },
      "outputs": [],
      "source": [
        "table = pq.read_table('/content/data2/KLB PHYSICS BK 2.parquet')\n",
        "table.to_pandas()"
      ]
    },
    {
      "cell_type": "code",
      "execution_count": null,
      "id": "deeef367-5846-4429-bc22-c395fd7548bc",
      "metadata": {
        "id": "deeef367-5846-4429-bc22-c395fd7548bc"
      },
      "outputs": [],
      "source": []
    }
  ],
  "metadata": {
    "kernelspec": {
      "display_name": "Python 3",
      "name": "python3"
    },
    "language_info": {
      "codemirror_mode": {
        "name": "ipython",
        "version": 3
      },
      "file_extension": ".py",
      "mimetype": "text/x-python",
      "name": "python",
      "nbconvert_exporter": "python",
      "pygments_lexer": "ipython3",
      "version": "3.11.10"
    },
    "colab": {
      "provenance": [],
      "gpuType": "T4"
    },
    "accelerator": "GPU"
  },
  "nbformat": 4,
  "nbformat_minor": 5
}